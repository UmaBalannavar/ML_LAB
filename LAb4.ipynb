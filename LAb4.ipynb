{
 "cells": [
  {
   "cell_type": "code",
   "execution_count": 3,
   "metadata": {},
   "outputs": [
    {
     "data": {
      "text/html": [
       "<div>\n",
       "<style scoped>\n",
       "    .dataframe tbody tr th:only-of-type {\n",
       "        vertical-align: middle;\n",
       "    }\n",
       "\n",
       "    .dataframe tbody tr th {\n",
       "        vertical-align: top;\n",
       "    }\n",
       "\n",
       "    .dataframe thead th {\n",
       "        text-align: right;\n",
       "    }\n",
       "</style>\n",
       "<table border=\"1\" class=\"dataframe\">\n",
       "  <thead>\n",
       "    <tr style=\"text-align: right;\">\n",
       "      <th></th>\n",
       "      <th>sky</th>\n",
       "      <th>airtemp</th>\n",
       "      <th>humidity</th>\n",
       "      <th>wind</th>\n",
       "      <th>water</th>\n",
       "      <th>forecast</th>\n",
       "      <th>enjoysport</th>\n",
       "    </tr>\n",
       "  </thead>\n",
       "  <tbody>\n",
       "    <tr>\n",
       "      <th>0</th>\n",
       "      <td>Su</td>\n",
       "      <td>w</td>\n",
       "      <td>n</td>\n",
       "      <td>st</td>\n",
       "      <td>w</td>\n",
       "      <td>sm</td>\n",
       "      <td>y</td>\n",
       "    </tr>\n",
       "    <tr>\n",
       "      <th>1</th>\n",
       "      <td>Su</td>\n",
       "      <td>w</td>\n",
       "      <td>h</td>\n",
       "      <td>st</td>\n",
       "      <td>w</td>\n",
       "      <td>sm</td>\n",
       "      <td>y</td>\n",
       "    </tr>\n",
       "    <tr>\n",
       "      <th>2</th>\n",
       "      <td>R</td>\n",
       "      <td>c</td>\n",
       "      <td>h</td>\n",
       "      <td>st</td>\n",
       "      <td>w</td>\n",
       "      <td>ch</td>\n",
       "      <td>n</td>\n",
       "    </tr>\n",
       "    <tr>\n",
       "      <th>3</th>\n",
       "      <td>Su</td>\n",
       "      <td>w</td>\n",
       "      <td>h</td>\n",
       "      <td>st</td>\n",
       "      <td>c</td>\n",
       "      <td>ch</td>\n",
       "      <td>y</td>\n",
       "    </tr>\n",
       "    <tr>\n",
       "      <th>4</th>\n",
       "      <td>Su</td>\n",
       "      <td>w</td>\n",
       "      <td>n</td>\n",
       "      <td>st</td>\n",
       "      <td>c</td>\n",
       "      <td>ch</td>\n",
       "      <td>y</td>\n",
       "    </tr>\n",
       "  </tbody>\n",
       "</table>\n",
       "</div>"
      ],
      "text/plain": [
       "  sky airtemp humidity wind water forecast enjoysport\n",
       "0  Su       w        n   st     w       sm          y\n",
       "1  Su       w        h   st     w       sm          y\n",
       "2   R       c        h   st     w       ch          n\n",
       "3  Su       w        h   st     c       ch          y\n",
       "4  Su       w        n   st     c       ch          y"
      ]
     },
     "execution_count": 3,
     "metadata": {},
     "output_type": "execute_result"
    }
   ],
   "source": [
    "import csv\n",
    "import pandas as pd\n",
    "df=pd.read_csv(\"find_s.csv\")\n",
    "df.head()"
   ]
  },
  {
   "cell_type": "code",
   "execution_count": 4,
   "metadata": {},
   "outputs": [
    {
     "data": {
      "text/plain": [
       "Index(['sky', 'airtemp', 'humidity', 'wind', 'water', 'forecast',\n",
       "       'enjoysport'],\n",
       "      dtype='object')"
      ]
     },
     "execution_count": 4,
     "metadata": {},
     "output_type": "execute_result"
    }
   ],
   "source": [
    "l = df['enjoysport']  # Extract the column\n",
    "data = df.drop(columns=[\"enjoysport\"])  # Drop the correct column name\n",
    "df.columns"
   ]
  },
  {
   "cell_type": "code",
   "execution_count": 5,
   "metadata": {},
   "outputs": [
    {
     "name": "stdout",
     "output_type": "stream",
     "text": [
      "Final Hypothesis: ['Su' 'w' '?' 'st' '?' '?']\n"
     ]
    }
   ],
   "source": [
    "#alternate code .... whwre ive converted it to np.array and read each line\n",
    "import numpy as np\n",
    "data_arr=data.to_numpy()\n",
    "sin =None \n",
    "for i in range(len(data_arr)):\n",
    "    if l.iloc[i]==\"y\":\n",
    "        if sin is None:\n",
    "            sin=data_arr[i]\n",
    "        else :\n",
    "            sin=np.where(sin==data_arr[i],sin,'?')\n",
    "print(\"Final Hypothesis:\",sin)    "
   ]
  },
  {
   "cell_type": "code",
   "execution_count": 6,
   "metadata": {},
   "outputs": [
    {
     "name": "stdout",
     "output_type": "stream",
     "text": [
      "Final Hypothesis: No positive examples found!\n"
     ]
    }
   ],
   "source": [
    "sin = None  # Initialize hypothesis\n",
    "\n",
    "    # Process positive examples\n",
    "for i in range(len(data)):\n",
    "    if l.iloc[i] == \"Yes\":  \n",
    "        if sin is None:\n",
    "            sin = data.iloc[i].tolist()  # First positive example\n",
    "        else:\n",
    "            sin = gen(sin, data.iloc[i].tolist())  # Call gen() to update hypothesis\n",
    "\n",
    "print(\"Final Hypothesis:\", sin if sin is not None else \"No positive examples found!\")\n"
   ]
  },
  {
   "cell_type": "code",
   "execution_count": null,
   "metadata": {},
   "outputs": [],
   "source": [
    "import csv\n",
    "import pandas as pd\n",
    "df=pd.read_csv(\"find_s.csv\")\n",
    "#df.head()\n",
    "l = df['enjoysport']  # Extract the column\n",
    "data = df.drop(columns=[\"enjoysport\"])  # Drop the correct column name\n",
    "#df.columns\n",
    "\n",
    "#alternate code .... whwre ive converted it to np.array and read each line\n",
    "import numpy as np\n",
    "data_arr=data.to_numpy()\n",
    "sin =None \n",
    "for i in range(len(data_arr)):\n",
    "    if l.iloc[i]==\"y\":\n",
    "        if sin is None:\n",
    "            sin=data_arr[i]\n",
    "        else :\n",
    "            sin=np.where(sin==data_arr[i],sin,'?')\n",
    "print(\"Final Hypothesis:\",sin)    "
   ]
  }
 ],
 "metadata": {
  "kernelspec": {
   "display_name": "base",
   "language": "python",
   "name": "python3"
  },
  "language_info": {
   "codemirror_mode": {
    "name": "ipython",
    "version": 3
   },
   "file_extension": ".py",
   "mimetype": "text/x-python",
   "name": "python",
   "nbconvert_exporter": "python",
   "pygments_lexer": "ipython3",
   "version": "3.10.9"
  }
 },
 "nbformat": 4,
 "nbformat_minor": 2
}
