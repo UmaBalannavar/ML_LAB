{
 "cells": [
  {
   "cell_type": "code",
   "execution_count": 1,
   "id": "ef7976ec",
   "metadata": {},
   "outputs": [],
   "source": [
    "import pandas as pd"
   ]
  },
  {
   "cell_type": "code",
   "execution_count": 2,
   "id": "49fa3888",
   "metadata": {},
   "outputs": [
    {
     "name": "stdout",
     "output_type": "stream",
     "text": [
      "  Day   Outlook Temperature Humidity    Wind PlayTennis\n",
      "0  D1     Sunny         Hot     High    Weak         No\n",
      "1  D2     Sunny         Hot     High  Strong         No\n",
      "2  D3  Overcast         Hot     High    Weak        Yes\n",
      "3  D4      Rain        Mild     High    Weak        Yes\n",
      "4  D5      Rain        Cool   Normal    Weak        Yes\n"
     ]
    }
   ],
   "source": [
    "#Load Dataset\n",
    "df = pd.read_csv('PlayTennis_NB_Example.csv')\n",
    "\n",
    "# Display the first 5 rows of the dataset\n",
    "print(df.head())"
   ]
  },
  {
   "cell_type": "code",
   "execution_count": 3,
   "id": "4ca4580e",
   "metadata": {},
   "outputs": [
    {
     "name": "stdout",
     "output_type": "stream",
     "text": [
      "Rounded Prior Probabilities:  {'Yes': 0.64, 'No': 0.36}\n"
     ]
    }
   ],
   "source": [
    "# Test Case is classsify the follwoing instance <Outlook = Sunny, Temperture = Cool, Humidity = High, Wind = Strong>\n",
    "test_case = {'Outlook': 'Sunny', 'Temperature': 'Cool', 'Humidity': 'High', 'Wind': 'Strong'}\n",
    "\n",
    "# Calculate the prior probabilities for each class label\n",
    "prior_probabilities = df['PlayTennis'].value_counts(normalize=True).to_dict()\n",
    "\n",
    "# Round the prior probabilities to 2 decimal places\n",
    "prior_probabilities = {k: round(v, 2) for k, v in prior_probabilities.items()}\n",
    "print(\"Rounded Prior Probabilities: \", prior_probabilities)"
   ]
  },
  {
   "cell_type": "code",
   "execution_count": 4,
   "id": "536fce87",
   "metadata": {},
   "outputs": [
    {
     "name": "stdout",
     "output_type": "stream",
     "text": [
      "Likelihood Probabilities for Outlook given No:  {'Sunny': 0.6, 'Rain': 0.4}\n",
      "Likelihood Probabilities for Outlook given Yes:  {'Overcast': 0.44, 'Rain': 0.33, 'Sunny': 0.22}\n",
      "Likelihood Probabilities for Temperature given No:  {'Hot': 0.4, 'Mild': 0.4, 'Cool': 0.2}\n",
      "Likelihood Probabilities for Temperature given Yes:  {'Mild': 0.44, 'Cool': 0.33, 'Hot': 0.22}\n",
      "Likelihood Probabilities for Humidity given No:  {'High': 0.8, 'Normal': 0.2}\n",
      "Likelihood Probabilities for Humidity given Yes:  {'Normal': 0.67, 'High': 0.33}\n",
      "Likelihood Probabilities for Wind given No:  {'Strong': 0.6, 'Weak': 0.4}\n",
      "Likelihood Probabilities for Wind given Yes:  {'Weak': 0.67, 'Strong': 0.33}\n"
     ]
    }
   ],
   "source": [
    "# Compute the likelihood probabilities for each feature given the class label\n",
    "likelihood_probabilities = {}   \n",
    "\n",
    "# Exclude the target variable and the Day columen from the features\n",
    "for feature in df.columns[1:-1]: \n",
    "    likelihood_probabilities[feature] = {}\n",
    "    for class_label in df['PlayTennis'].unique():\n",
    "        # Calculate the likelihood probability for each feature given the class label\n",
    "        likelihood_probabilities[feature][class_label] = df[df['PlayTennis'] == class_label][feature].value_counts(normalize=True).to_dict()\n",
    "        # Round the likelihood probabilities to 2 decimal places\n",
    "        likelihood_probabilities[feature][class_label] = {k: round(v, 2) for k, v in likelihood_probabilities[feature][class_label].items()}\n",
    "        print(f\"Likelihood Probabilities for {feature} given {class_label}: \", likelihood_probabilities[feature][class_label])"
   ]
  },
  {
   "cell_type": "code",
   "execution_count": 5,
   "id": "94d43056",
   "metadata": {},
   "outputs": [
    {
     "name": "stdout",
     "output_type": "stream",
     "text": [
      "Probability of PlayTennis = Yes:  0.0051\n"
     ]
    }
   ],
   "source": [
    "# Navie Bayes Probability  for playTennis = Yes\n",
    "prob_yes = prior_probabilities['Yes']\n",
    "for feature, value in test_case.items():\n",
    "    prob_yes *= likelihood_probabilities[feature]['Yes'].get(value, 0)\n",
    "\n",
    "#print the probability of PlayTennis = Yes with two decimal places\n",
    "\n",
    "print(\"Probability of PlayTennis = Yes: \", round(prob_yes,4))"
   ]
  },
  {
   "cell_type": "code",
   "execution_count": 6,
   "id": "9c502baa",
   "metadata": {},
   "outputs": [
    {
     "name": "stdout",
     "output_type": "stream",
     "text": [
      "Probability of PlayTennis = No:  0.0207\n"
     ]
    }
   ],
   "source": [
    "# Navie Bayes Probability  for playTennis = No\n",
    "prob_no = prior_probabilities['No']\n",
    "for feature, value in test_case.items():\n",
    "    prob_no *= likelihood_probabilities[feature]['No'].get(value, 0)\n",
    "\n",
    "#print the probability of PlayTennis = Yes with two decimal places\n",
    "\n",
    "print(\"Probability of PlayTennis = No: \", round(prob_no,4))"
   ]
  },
  {
   "cell_type": "code",
   "execution_count": 7,
   "id": "5aa7b301",
   "metadata": {},
   "outputs": [
    {
     "name": "stdout",
     "output_type": "stream",
     "text": [
      "The predicted class is: PlayTennis = No\n"
     ]
    }
   ],
   "source": [
    "# The end result of NB is to compare the two probabilities and choose the one with the highest value.\n",
    "if prob_yes > prob_no:\n",
    "    print(\"The predicted class is: PlayTennis = Yes\")\n",
    "else:   \n",
    "    print(\"The predicted class is: PlayTennis = No\")"
   ]
  },
  {
   "cell_type": "code",
   "execution_count": 8,
   "id": "3f1cb061",
   "metadata": {},
   "outputs": [
    {
     "name": "stdout",
     "output_type": "stream",
     "text": [
      "Label Encoding for Outlook: {'Overcast': 0, 'Rain': 1, 'Sunny': 2}\n",
      "Label Encoding for Temperature: {'Cool': 0, 'Hot': 1, 'Mild': 2}\n",
      "Label Encoding for Humidity: {'High': 0, 'Normal': 1}\n",
      "Label Encoding for Wind: {'Strong': 0, 'Weak': 1}\n",
      "Label Encoding for PlayTennis: {'No': 0, 'Yes': 1}\n",
      "Accuracy in %:  100.0\n"
     ]
    }
   ],
   "source": [
    "# Lets implement the same code using sklearn library\n",
    "from sklearn.naive_bayes import GaussianNB\n",
    "from sklearn.model_selection import train_test_split\n",
    "from sklearn.metrics import accuracy_score, classification_report, confusion_matrix\n",
    "from sklearn.preprocessing import LabelEncoder\n",
    "import numpy as np\n",
    "\n",
    "# Load the dataset\n",
    "df = pd.read_csv('PlayTennis_NB_Example.csv')\n",
    "df = df.drop(columns=['Day']) # Drop the 'Day' column as it is not needed for classification\n",
    "\n",
    "# Encode categorical features using LabelEncoder\n",
    "label_encoders = {}\n",
    "for column in df.columns:\n",
    "    if df[column].dtype == 'object':\n",
    "        le = LabelEncoder()\n",
    "        df[column] = le.fit_transform(df[column])\n",
    "        label_encoders[column] = le\n",
    "        # Display the mapping for the column without showing int64()\n",
    "        mapping = {original: int(encoded) for original, encoded in zip(le.classes_, le.transform(le.classes_))}\n",
    "        print(f\"Label Encoding for {column}: {mapping}\")\n",
    "\n",
    "    \n",
    "\n",
    "# Split the dataset into features and target variable\n",
    "X = df.drop(columns=['PlayTennis'])\n",
    "y = df['PlayTennis']\n",
    "\n",
    "# Split the dataset into training and testing sets\n",
    "X_train, X_test, y_train, y_test = train_test_split(X, y, test_size=0.2, random_state=42)\n",
    "\n",
    "# Create and train the Gaussian Naive Bayes model\n",
    "gnb = GaussianNB()\n",
    "gnb.fit(X_train, y_train)\n",
    "\n",
    "# Make predictions on the test set\n",
    "y_pred = gnb.predict(X_test)\n",
    "\n",
    "# Calculate accuracy and print classification report\n",
    "accuracy = accuracy_score(y_test, y_pred)   \n",
    "print(\"Accuracy in %: \", round(accuracy,2)*100)"
   ]
  },
  {
   "cell_type": "code",
   "execution_count": 9,
   "id": "a335cddc",
   "metadata": {},
   "outputs": [],
   "source": [
    "# Encode the test case with feature names\n",
    "test_case_encoded = pd.DataFrame({\n",
    "    'Outlook': label_encoders['Outlook'].transform([test_case['Outlook']])[0],\n",
    "    'Temperature': label_encoders['Temperature'].transform([test_case['Temperature']])[0],\n",
    "    'Humidity': label_encoders['Humidity'].transform([test_case['Humidity']])[0],\n",
    "    'Wind': label_encoders['Wind'].transform([test_case['Wind']])[0]\n",
    "}, index=[0])  # Create a DataFrame with feature names as columns"
   ]
  },
  {
   "cell_type": "code",
   "execution_count": 10,
   "id": "1aa6e992",
   "metadata": {},
   "outputs": [
    {
     "name": "stdout",
     "output_type": "stream",
     "text": [
      "Encoded Test Case with Feature Names:\n",
      "   Outlook  Temperature  Humidity  Wind\n",
      "0        2            0         0     0\n"
     ]
    }
   ],
   "source": [
    "# Display the encoded test case with feature names\n",
    "print(\"Encoded Test Case with Feature Names:\")\n",
    "print(test_case_encoded)"
   ]
  },
  {
   "cell_type": "code",
   "execution_count": 11,
   "id": "57ea0c46",
   "metadata": {},
   "outputs": [
    {
     "name": "stdout",
     "output_type": "stream",
     "text": [
      "Given Test Case:\n",
      "  Outlook Temperature Humidity    Wind\n",
      "0   Sunny        Cool     High  Strong\n"
     ]
    }
   ],
   "source": [
    "# display after inverse the encoding\n",
    "decoded_test_case = test_case_encoded.copy()\n",
    "for column in decoded_test_case.columns:\n",
    "    decoded_test_case[column] = label_encoders[column].inverse_transform(decoded_test_case[column])\n",
    "print(\"Given Test Case:\")\n",
    "print(decoded_test_case)"
   ]
  },
  {
   "cell_type": "code",
   "execution_count": 12,
   "id": "8680618d",
   "metadata": {},
   "outputs": [
    {
     "name": "stdout",
     "output_type": "stream",
     "text": [
      "Predicted class for the test case: No\n"
     ]
    }
   ],
   "source": [
    "# Make prediction for the test case\n",
    "predicted_class = gnb.predict(test_case_encoded)[0]\n",
    "predicted_class_label = label_encoders['PlayTennis'].inverse_transform([predicted_class])[0]\n",
    "print(\"Predicted class for the test case:\", predicted_class_label)"
   ]
  },
  {
   "cell_type": "markdown",
   "id": "ad4a9b65",
   "metadata": {},
   "source": [
    "Activity"
   ]
  },
  {
   "cell_type": "code",
   "execution_count": 13,
   "id": "c4dc69a3",
   "metadata": {},
   "outputs": [
    {
     "name": "stdout",
     "output_type": "stream",
     "text": [
      "Dataset:\n",
      "   S.No. CGPA Interactiveness Practical Knowledge Communication Skills  \\\n",
      "0    1.0   ≥9             Yes           Very good                 Good   \n",
      "1    2.0   ≥8              No                Good             Moderate   \n",
      "2    3.0   ≥9              No             Average                 Poor   \n",
      "3    4.0   <8              No             Average                 Good   \n",
      "4    5.0   ≥8             Yes                Good             Moderate   \n",
      "\n",
      "  Job Offer  \n",
      "0       Yes  \n",
      "1       Yes  \n",
      "2        No  \n",
      "3        No  \n",
      "4       Yes  \n",
      "\n",
      "Prior Probabilities:\n",
      "{'Yes': 0.7, 'No': 0.3}\n",
      "\n",
      "Likelihood Probabilities with Laplace Smoothing:\n",
      "S.No.: {'Yes': {1.0: 0.11764705882352941, 2.0: 0.11764705882352941, 3.0: 0.058823529411764705, 4.0: 0.058823529411764705, 5.0: 0.11764705882352941, 6.0: 0.11764705882352941, 7.0: 0.058823529411764705, 8.0: 0.11764705882352941, 9.0: 0.11764705882352941, 10.0: 0.11764705882352941}, 'No': {1.0: 0.07692307692307693, 2.0: 0.07692307692307693, 3.0: 0.15384615384615385, 4.0: 0.15384615384615385, 5.0: 0.07692307692307693, 6.0: 0.07692307692307693, 7.0: 0.15384615384615385, 8.0: 0.07692307692307693, 9.0: 0.07692307692307693, 10.0: 0.07692307692307693}}\n",
      "CGPA: {'Yes': {'≥9': 0.4, '≥8': 0.5, '<8': 0.1}, 'No': {'≥9': 0.3333333333333333, '≥8': 0.16666666666666666, '<8': 0.5}}\n",
      "Interactiveness: {'Yes': {'Yes': 0.6666666666666666, 'No': 0.3333333333333333}, 'No': {'Yes': 0.4, 'No': 0.6}}\n",
      "Practical Knowledge: {'Yes': {'Very good': 0.3, 'Good': 0.5, 'Average': 0.2}, 'No': {'Very good': 0.16666666666666666, 'Good': 0.3333333333333333, 'Average': 0.5}}\n",
      "Communication Skills: {'Yes': {'Good': 0.5, 'Moderate': 0.4, 'Poor': 0.1}, 'No': {'Good': 0.3333333333333333, 'Moderate': 0.16666666666666666, 'Poor': 0.5}}\n",
      "\n",
      "Posterior Probabilities:\n",
      "Yes: 0.0467\n",
      "No: 0.02\n",
      "\n",
      "Predicted Class: Yes\n"
     ]
    }
   ],
   "source": [
    "import pandas as pd\n",
    "import numpy as np\n",
    "\n",
    "# Load the dataset\n",
    "df = pd.read_csv('job_offers.csv')\n",
    "\n",
    "# Display the first few rows of the dataset\n",
    "print(\"Dataset:\")\n",
    "print(df.head())\n",
    "\n",
    "# Test case to classify\n",
    "test_case = {'CGPA': 8, 'Interactiveness': 'Yes', 'Practical Knowledge': 'Average', 'Communication Skills': 'Good'}\n",
    "\n",
    "# Calculate the prior probabilities for each class label\n",
    "prior_probabilities = df['Job Offer'].value_counts(normalize=True).to_dict()\n",
    "print(\"\\nPrior Probabilities:\")\n",
    "print(prior_probabilities)\n",
    "\n",
    "# Compute the likelihood probabilities with Laplace Smoothing\n",
    "likelihood_probabilities = {}\n",
    "for feature in df.columns[:-1]:  # Exclude the target variable\n",
    "    likelihood_probabilities[feature] = {}\n",
    "    for class_label in df['Job Offer'].unique():\n",
    "        # Calculate the likelihood with Laplace Smoothing\n",
    "        feature_counts = df[df['Job Offer'] == class_label][feature].value_counts()\n",
    "        total_count = len(df[df['Job Offer'] == class_label])\n",
    "        unique_values = len(df[feature].unique())\n",
    "        likelihood_probabilities[feature][class_label] = {\n",
    "            value: (feature_counts.get(value, 0) + 1) / (total_count + unique_values)\n",
    "            for value in df[feature].unique()\n",
    "        }\n",
    "\n",
    "print(\"\\nLikelihood Probabilities with Laplace Smoothing:\")\n",
    "for feature, class_dict in likelihood_probabilities.items():\n",
    "    print(f\"{feature}: {class_dict}\")\n",
    "\n",
    "# Calculate the posterior probabilities for each class\n",
    "posterior_probabilities = {}\n",
    "for class_label in df['Job Offer'].unique():\n",
    "    posterior_probabilities[class_label] = prior_probabilities[class_label]\n",
    "    for feature, value in test_case.items():\n",
    "        posterior_probabilities[class_label] *= likelihood_probabilities[feature][class_label].get(value, 1)\n",
    "\n",
    "print(\"\\nPosterior Probabilities:\")\n",
    "for class_label, probability in posterior_probabilities.items():\n",
    "    print(f\"{class_label}: {round(probability, 4)}\")\n",
    "\n",
    "# Predict the class with the highest posterior probability\n",
    "predicted_class = max(posterior_probabilities, key=posterior_probabilities.get)\n",
    "print(\"\\nPredicted Class:\", predicted_class)"
   ]
  }
 ],
 "metadata": {
  "kernelspec": {
   "display_name": "base",
   "language": "python",
   "name": "python3"
  },
  "language_info": {
   "codemirror_mode": {
    "name": "ipython",
    "version": 3
   },
   "file_extension": ".py",
   "mimetype": "text/x-python",
   "name": "python",
   "nbconvert_exporter": "python",
   "pygments_lexer": "ipython3",
   "version": "3.10.9"
  }
 },
 "nbformat": 4,
 "nbformat_minor": 5
}
