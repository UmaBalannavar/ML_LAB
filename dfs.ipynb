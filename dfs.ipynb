{
 "cells": [
  {
   "cell_type": "code",
   "execution_count": 7,
   "id": "4877a261",
   "metadata": {},
   "outputs": [
    {
     "name": "stdout",
     "output_type": "stream",
     "text": [
      "RESULT :\n",
      "--------------------\n",
      "A B C E D "
     ]
    }
   ],
   "source": [
    "\n",
    " # Input Graph\n",
    "graph = {\n",
    "'A' : ['B','C'],\n",
    "'B' : ['A','C','D'],\n",
    "'C' : ['A','B','E'],\n",
    "'D' : ['B','E'],\n",
    "'E' : ['C','D']\n",
    "}\n",
    "# Set used to store visited nodes.\n",
    "visitedNodes = list()\n",
    "# function\n",
    "def dfs(visitedNodes, graph, node):\n",
    "\tif node not in visitedNodes:\n",
    "\t\tprint (node,end=\" \")\n",
    "\t\tvisitedNodes.append(node)\n",
    "\t\tfor neighbour in graph[node]:\n",
    "\t\t\tdfs(visitedNodes, graph, neighbour)\n",
    "\t\t\t\n",
    "# Driver Code\n",
    "snode = input(\"Enter Starting Node(A, B, C, D, or E) :\").upper()\n",
    "# calling bfs function\n",
    "print(\"RESULT :\")\n",
    "print(\"-\"*20)\n",
    "dfs(visitedNodes, graph, snode)            "
   ]
  }
 ],
 "metadata": {
  "kernelspec": {
   "display_name": "base",
   "language": "python",
   "name": "python3"
  },
  "language_info": {
   "codemirror_mode": {
    "name": "ipython",
    "version": 3
   },
   "file_extension": ".py",
   "mimetype": "text/x-python",
   "name": "python",
   "nbconvert_exporter": "python",
   "pygments_lexer": "ipython3",
   "version": "3.10.9"
  }
 },
 "nbformat": 4,
 "nbformat_minor": 5
}
