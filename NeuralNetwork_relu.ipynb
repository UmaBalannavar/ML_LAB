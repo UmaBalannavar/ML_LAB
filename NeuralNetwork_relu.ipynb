{
 "cells": [
  {
   "cell_type": "code",
   "execution_count": 1,
   "id": "987fff3c",
   "metadata": {},
   "outputs": [],
   "source": [
    "import numpy as np\n",
    "X = np.array([[0, 0], [0, 1], [1, 0], [1, 1]])\n",
    "Y = np.array([[1], [1], [1], [0]])  # XOR problem"
   ]
  },
  {
   "cell_type": "code",
   "execution_count": 2,
   "id": "6ffd8987",
   "metadata": {},
   "outputs": [],
   "source": [
    "#ReLu function\n",
    "def relu(x):\n",
    "    return np.maximum(0, x)"
   ]
  },
  {
   "cell_type": "code",
   "execution_count": 3,
   "id": "b5847d89",
   "metadata": {},
   "outputs": [],
   "source": [
    "#Derivative of relu function\n",
    "def relu_derivative(x):\n",
    "    return np.where(x > 0, 1, 0)"
   ]
  },
  {
   "cell_type": "code",
   "execution_count": 4,
   "id": "bdfc2e35",
   "metadata": {},
   "outputs": [],
   "source": [
    "epoch = 100000\n",
    "learning_rate = 0.01\n",
    "input_layer_neurons = 2  # number of features\n",
    "hidden_layer_neurons = 3  # number of hidden neurons\n",
    "output_neurons = 1  # number of output neurons"
   ]
  },
  {
   "cell_type": "code",
   "execution_count": 5,
   "id": "b8e4029a",
   "metadata": {},
   "outputs": [],
   "source": [
    "#initializing weights and biases\n",
    "np.random.seed(0)  # for reproducibility\n",
    "weights_input_hidden = np.random.uniform(size=(input_layer_neurons, hidden_layer_neurons))\n",
    "weights_hidden_output = np.random.uniform(size=(hidden_layer_neurons, output_neurons))\n",
    "bias_hidden = np.random.uniform(size=(1, hidden_layer_neurons))"
   ]
  },
  {
   "cell_type": "code",
   "execution_count": 6,
   "id": "99a389e0",
   "metadata": {},
   "outputs": [],
   "source": [
    "#Backpropagation algorithm \n",
    "for epoch in range(epoch):\n",
    "    # Forward propagation\n",
    "    hidden_layer_input = np.dot(X, weights_input_hidden)\n",
    "    hidden_layer_output = relu(hidden_layer_input)\n",
    "\n",
    "    final_input = np.dot(hidden_layer_output, weights_hidden_output)\n",
    "    final_output = relu(final_input)\n",
    "\n",
    "    # Backward propagation\n",
    "    error = Y - final_output\n",
    "    d_final_output = error * relu_derivative(final_output)\n",
    "\n",
    "    error_hidden_layer = d_final_output.dot(weights_hidden_output.T)\n",
    "    d_hidden_layer = error_hidden_layer * relu_derivative(hidden_layer_output)\n",
    "\n",
    "    # Updating weights and biases\n",
    "    weights_hidden_output += hidden_layer_output.T.dot(d_final_output) * learning_rate\n",
    "    weights_input_hidden += X.T.dot(d_hidden_layer) * learning_rate\n",
    "    bias_hidden += np.sum(d_hidden_layer, axis=0, keepdims=True) * learning_rate"
   ]
  },
  {
   "cell_type": "code",
   "execution_count": 7,
   "id": "b1734faf",
   "metadata": {},
   "outputs": [
    {
     "name": "stdout",
     "output_type": "stream",
     "text": [
      "Final output after training:\n",
      "[[0.        ]\n",
      " [0.33333333]\n",
      " [0.33333333]\n",
      " [0.66666667]]\n",
      "Mean Squared Error: 0.5833333333333333\n"
     ]
    }
   ],
   "source": [
    "#print final output\n",
    "print(\"Final output after training:\")\n",
    "print(final_output)\n",
    "\n",
    "# Compute the mean squared error\n",
    "mse = np.mean(np.square(Y - final_output))\n",
    "print(\"Mean Squared Error:\",mse)"
   ]
  },
  {
   "cell_type": "code",
   "execution_count": 8,
   "id": "97b014c9",
   "metadata": {},
   "outputs": [
    {
     "name": "stdout",
     "output_type": "stream",
     "text": [
      "Test data: [0, 1]\n",
      "Predicted output: [0.33333333]\n",
      "Actual output: [1]\n"
     ]
    }
   ],
   "source": [
    "#Test the model with new data\n",
    "test_data = [0, 1]\n",
    "hidden_layer_input = np.dot(test_data, weights_input_hidden)\n",
    "hidden_layer_output = relu(hidden_layer_input)\n",
    "final_input = np.dot(hidden_layer_output, weights_hidden_output)\n",
    "final_output = relu(final_input)\n",
    "print(\"Test data:\", test_data)\n",
    "print(\"Predicted output:\", final_output)\n",
    "print(\"Actual output:\", Y[1])  # Expected output for XOR(0, 1) is 1"
   ]
  },
  {
   "cell_type": "code",
   "execution_count": 9,
   "id": "b966c9ac",
   "metadata": {},
   "outputs": [
    {
     "name": "stdout",
     "output_type": "stream",
     "text": [
      "Weights from input to hidden layer:\n",
      "[[0.44 0.37 0.22]\n",
      " [0.45 0.18 0.39]]\n",
      "Weights from hidden to output layer:\n",
      "[[0.03]\n",
      " [0.52]\n",
      " [0.59]]\n"
     ]
    }
   ],
   "source": [
    "# Display the weights and biases rounding to 2 decimal places\n",
    "\n",
    "print(\"Weights from input to hidden layer:\")\n",
    "print(np.round(weights_input_hidden, 2))  # Use np.round for NumPy arrays\n",
    "\n",
    "print(\"Weights from hidden to output layer:\")\n",
    "print(np.round(weights_hidden_output, 2))  # Use np.round for NumPy arrays"
   ]
  },
  {
   "cell_type": "code",
   "execution_count": 24,
   "id": "fe44b8f4",
   "metadata": {},
   "outputs": [],
   "source": [
    "#Plot the netwrork grpahically\n",
    "# Remove redundant imports\n",
    "\n",
    "def plot_neural_network(weights_input_hidden, weights_hidden_output, input_values, hidden_values, output_value):\n",
    "    import matplotlib.pyplot as plt\n",
    "    import networkx as nx\n",
    "\n",
    "    G = nx.DiGraph()\n",
    "\n",
    "    # Input layer\n",
    "    for i in range(input_layer_neurons):\n",
    "        G.add_node(f'Input {i+1}', layer=0, value=input_values[i])  # Assign layer 0 for input nodes\n",
    "\n",
    "    # Hidden layer\n",
    "    for i in range(hidden_layer_neurons):\n",
    "        G.add_node(f'Hidden {i+1}', layer=1, value=hidden_values[i])  # Assign layer 1 for hidden nodes\n",
    "\n",
    "    # Output layer\n",
    "    G.add_node('Output', layer=2, value=output_value)  # Assign layer 2 for output node\n",
    "\n",
    "    # Add edges from input to hidden layer\n",
    "    for i in range(input_layer_neurons):\n",
    "        for j in range(hidden_layer_neurons):\n",
    "            G.add_edge(f'Input {i+1}', f'Hidden {j+1}', weight=round(weights_input_hidden[i][j], 2))\n",
    "\n",
    "    # Add edges from hidden to output layer\n",
    "    for i in range(hidden_layer_neurons):\n",
    "        G.add_edge(f'Hidden {i+1}', 'Output', weight=round(weights_hidden_output[i][0], 2))\n",
    "\n",
    "    # Use multipartite layout with explicit layer ordering\n",
    "    pos = nx.multipartite_layout(G, subset_key=\"layer\")\n",
    "\n",
    "    # Draw the graph\n",
    "    node_labels = {\n",
    "        node: f\"{node}\\n({data['value']:.2f})\" if np.isscalar(data['value']) else f\"{node}\\n({data['value'].item():.2f})\"\n",
    "        for node, data in G.nodes(data=True)\n",
    "    }  # Add node values\n",
    "    edge_labels = {\n",
    "        (u, v): f\"{d['weight']:.2f}\" for u, v, d in G.edges(data=True)\n",
    "    }  # Round edge weights to 2 decimal places\n",
    "\n",
    "    nx.draw(G, pos, with_labels=True, labels=node_labels, node_size=2000, node_color='lightblue', font_size=10)\n",
    "    nx.draw_networkx_edge_labels(\n",
    "        G, pos, edge_labels=edge_labels, font_size=8, label_pos=0.25\n",
    "    )  # Adjust label_pos to avoid overlap\n",
    "    plt.title(\"Neural Network Structure with Node Values\")\n",
    "    plt.show(block=True)  # Ensure the plot is displayed correctly\n",
    "\n",
    "# Example usage\n",
    "input_values = [0, 1]  # Example input values\n",
    "hidden_layer_input = np.dot(input_values, weights_input_hidden)\n",
    "hidden_values = relu(hidden_layer_input)  # Hidden layer activations\n",
    "final_input = np.dot(hidden_values, weights_hidden_output)\n",
    "output_value = relu(final_input)  # Output value\n",
    "\n",
    "#plot_neural_network(weights_input_hidden, weights_hidden_output, input_values, hidden_values, output_value)"
   ]
  }
 ],
 "metadata": {
  "kernelspec": {
   "display_name": "base",
   "language": "python",
   "name": "python3"
  },
  "language_info": {
   "codemirror_mode": {
    "name": "ipython",
    "version": 3
   },
   "file_extension": ".py",
   "mimetype": "text/x-python",
   "name": "python",
   "nbconvert_exporter": "python",
   "pygments_lexer": "ipython3",
   "version": "3.10.9"
  }
 },
 "nbformat": 4,
 "nbformat_minor": 5
}
