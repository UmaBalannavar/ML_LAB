{
 "cells": [
  {
   "cell_type": "code",
   "execution_count": 1,
   "id": "a4d934a0",
   "metadata": {},
   "outputs": [],
   "source": [
    "\n",
    "import numpy as np\n",
    "import matplotlib.pyplot as plt\n",
    "import networkx as nx\n",
    "\n",
    "\n",
    "# Define the states and transition matrix\n",
    "states = [\"S\", \"R\", \"C\"]\n",
    "transition_matrix = np.array([[0.7, 0.2, 0.1], [0.4, 0.4, 0.2], [0.3, 0.3, 0.4]])"
   ]
  },
  {
   "cell_type": "code",
   "execution_count": 2,
   "id": "33f87a2a",
   "metadata": {},
   "outputs": [
    {
     "data": {
      "image/png": "[encoded data removed]",
      "text/plain": [
       "<Figure size 400x300 with 1 Axes>"
      ]
     },
     "metadata": {},
     "output_type": "display_data"
    }
   ],
   "source": [
    "#Plot the graph \n",
    "# Create a directed graph from the transition matrix\n",
    "G = nx.DiGraph()\n",
    "\n",
    "# Add edges with weights from the transition matrix\n",
    "for i, state_from in enumerate(states):\n",
    "    for j, state_to in enumerate(states):\n",
    "        weight = transition_matrix[i][j]\n",
    "        G.add_edge(state_from, state_to, weight=weight)\n",
    "\n",
    "# Define positions for nodes\n",
    "pos = nx.circular_layout(G)  # Arrange nodes in a circular layout\n",
    "\n",
    "# Draw the graph\n",
    "plt.figure(figsize=(4, 3))\n",
    "nx.draw_networkx_nodes(G, pos, node_size=300, node_color=\"lightblue\")\n",
    "nx.draw_networkx_edges(G, pos, arrowstyle=\"->\", arrowsize=10, edge_color=\"gray\")\n",
    "nx.draw_networkx_labels(G, pos, font_size=8, font_color=\"black\")\n",
    "\n",
    "# Add edge labels (transition probabilities)\n",
    "edge_labels = {(state_from, state_to): f\"{data['weight']:.1f}\" \n",
    "               for state_from, state_to, data in G.edges(data=True)}\n",
    "nx.draw_networkx_edge_labels(G, pos, edge_labels=edge_labels, font_size=8)\n",
    "\n",
    "plt.title(\"Weather State Transition Graph\")\n",
    "plt.show()"
   ]
  },
  {
   "cell_type": "code",
   "execution_count": 3,
   "id": "fbe4569e",
   "metadata": {},
   "outputs": [
    {
     "name": "stdout",
     "output_type": "stream",
     "text": [
      "Predicted state distributions for each day:\n",
      "Day 0: [1 0 0]\n",
      "Day 1: [0.7 0.2 0.1]\n",
      "Day 2: [0.6  0.25 0.15]\n"
     ]
    }
   ],
   "source": [
    "\n",
    "# Lets use Markov Chain to predict the weather for the next 2 days\n",
    "# Initial state distribution (assuming starting in state \"S\")\n",
    "initial_state = np.array([1, 0, 0])  # 100% chance of starting in state \"S\"\n",
    "\n",
    "# Number of days to predict\n",
    "num_days = 2\n",
    "\n",
    "# Initialize the state distribution\n",
    "state_distribution = initial_state.copy()\n",
    "\n",
    "\n",
    "# Store the state distributions for each day\n",
    "state_distributions = [state_distribution.copy()]\n",
    "\n",
    "# Iterate through each day to predict the weather\n",
    "for day in range(num_days):\n",
    "    # Update the state distribution using the transition matrix\n",
    "    state_distribution = np.dot(state_distribution, transition_matrix)\n",
    "    state_distributions.append(state_distribution.copy())\n",
    "\n",
    "# Print the predicted state distributions for each day\n",
    "print(\"Predicted state distributions for each day:\")\n",
    "for day, distribution in enumerate(state_distributions):\n",
    "    print(f\"Day {day}: {distribution}\")\n",
    "\n",
    "# Convert state distributions to percentages\n",
    "state_distributions_percentage = [dist * 100 for dist in state_distributions]"
   ]
  },
  {
   "cell_type": "markdown",
   "id": "fdf69fff",
   "metadata": {},
   "source": [
    "Acitivity"
   ]
  },
  {
   "cell_type": "code",
   "execution_count": 4,
   "id": "a7f49e30",
   "metadata": {},
   "outputs": [
    {
     "name": "stdout",
     "output_type": "stream",
     "text": [
      "Predicted state distribution after 10 days:\n",
      "Pizza: 32.14%\n",
      "Burger: 42.86%\n",
      "Pasta: 25.00%\n",
      "\n",
      "Most likely food item to be served after 10 days: Burger\n"
     ]
    }
   ],
   "source": [
    "#1\n",
    "import numpy as np\n",
    "\n",
    "# Define the states and transition matrix\n",
    "states = [\"Pizza\", \"Burger\", \"Pasta\"]\n",
    "transition_matrix = np.array([\n",
    "    [0.5, 0.3, 0.2],  # Transition probabilities from \"Pizza\"\n",
    "    [0.2, 0.6, 0.2],  # Transition probabilities from \"Burger\"\n",
    "    [0.3, 0.3, 0.4]   # Transition probabilities from \"Pasta\"\n",
    "])\n",
    "\n",
    "# Initial state distribution (assuming starting with \"Pizza\")\n",
    "initial_state = np.array([1, 0, 0])  # 100% chance of starting with \"Pizza\"\n",
    "\n",
    "# Number of days to predict\n",
    "num_days = 10\n",
    "\n",
    "# Initialize the state distribution\n",
    "state_distribution = initial_state.copy()\n",
    "\n",
    "# Iterate through each day to predict the food item\n",
    "for day in range(num_days):\n",
    "    # Update the state distribution using the transition matrix\n",
    "    state_distribution = np.dot(state_distribution, transition_matrix)\n",
    "\n",
    "# Print the predicted state distribution after 10 days\n",
    "print(\"Predicted state distribution after 10 days:\")\n",
    "for state, probability in zip(states, state_distribution):\n",
    "    print(f\"{state}: {probability * 100:.2f}%\")\n",
    "\n",
    "# Determine the most likely food item to be served\n",
    "most_likely_state = states[np.argmax(state_distribution)]\n",
    "print(f\"\\nMost likely food item to be served after 10 days: {most_likely_state}\")"
   ]
  },
  {
   "cell_type": "code",
   "execution_count": 7,
   "id": "76b38429",
   "metadata": {},
   "outputs": [
    {
     "name": "stdout",
     "output_type": "stream",
     "text": [
      "Predicted state distributions for each day:\n",
      "Day 0: [1 0 0]\n",
      "Day 1: [0.6 0.3 0.1]\n",
      "Day 2: [0.5  0.35 0.15]\n",
      "Day 3: [0.47  0.365 0.165]\n",
      "Day 4: [0.461  0.3695 0.1695]\n",
      "Day 5: [0.4583  0.37085 0.17085]\n",
      "Day 6: [0.45749  0.371255 0.171255]\n",
      "Day 7: [0.457247  0.3713765 0.1713765]\n",
      "Day 8: [0.4571741  0.37141295 0.17141295]\n",
      "Day 9: [0.45715223 0.37142389 0.17142389]\n",
      "Day 10: [0.45714567 0.37142717 0.17142717]\n",
      "\n",
      "Most likely weather state after 10 days: Dry\n"
     ]
    }
   ],
   "source": [
    "#2\n",
    "import numpy as np\n",
    "\n",
    "# Define the states and transition matrix\n",
    "states = [\"Dry\", \"Damp\", \"Wet\"]\n",
    "transition_matrix = np.array([\n",
    "    [0.6, 0.3, 0.1],  # Transition probabilities from \"Dry\"\n",
    "    [0.4, 0.4, 0.2],  # Transition probabilities from \"Damp\"\n",
    "    [0.2, 0.5, 0.3]   # Transition probabilities from \"Wet\"\n",
    "])\n",
    "\n",
    "# Initial state distribution (assuming starting with \"Dry\")\n",
    "initial_state = np.array([1, 0, 0])  # 100% chance of starting with \"Dry\"\n",
    "\n",
    "# Number of days to predict\n",
    "num_days = 10\n",
    "\n",
    "# Initialize the state distribution\n",
    "state_distribution = initial_state.copy()\n",
    "\n",
    "# Store the state distributions for each day\n",
    "state_distributions = [state_distribution.copy()]\n",
    "\n",
    "# Iterate through each day to predict the weather\n",
    "for day in range(num_days):\n",
    "    # Update the state distribution using the transition matrix\n",
    "    state_distribution = np.dot(state_distribution, transition_matrix)\n",
    "    state_distributions.append(state_distribution.copy())\n",
    "\n",
    "# Print the predicted state distributions for each day\n",
    "print(\"Predicted state distributions for each day:\")\n",
    "for day, distribution in enumerate(state_distributions):\n",
    "    print(f\"Day {day}: {distribution}\")\n",
    "\n",
    "# Convert state distributions to percentages\n",
    "state_distributions_percentage = [dist * 100 for dist in state_distributions]\n",
    "\n",
    "# Print the most likely state after 10 days\n",
    "most_likely_state = states[np.argmax(state_distributions[-1])]\n",
    "print(f\"\\nMost likely weather state after {num_days} days: {most_likely_state}\")"
   ]
  }
 ],
 "metadata": {
  "kernelspec": {
   "display_name": "base",
   "language": "python",
   "name": "python3"
  },
  "language_info": {
   "codemirror_mode": {
    "name": "ipython",
    "version": 3
   },
   "file_extension": ".py",
   "mimetype": "text/x-python",
   "name": "python",
   "nbconvert_exporter": "python",
   "pygments_lexer": "ipython3",
   "version": "3.10.9"
  }
 },
 "nbformat": 4,
 "nbformat_minor": 5
}
