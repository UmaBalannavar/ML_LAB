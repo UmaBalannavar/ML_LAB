{
 "cells": [
  {
   "cell_type": "code",
   "execution_count": 5,
   "id": "c5406e1b",
   "metadata": {},
   "outputs": [
    {
     "name": "stdout",
     "output_type": "stream",
     "text": [
      "\n",
      "RESULT:\n",
      "A B C D E "
     ]
    }
   ],
   "source": [
    "# Define the graph\n",
    "graph = {\n",
    "    'A': ['B', 'C'],\n",
    "    'B': ['A', 'C', 'D'],\n",
    "    'C': ['A', 'B', 'E'],\n",
    "    'D': ['B', 'E'],\n",
    "    'E': ['C', 'D']\n",
    "}\n",
    "\n",
    "def bfs(graph, snode):\n",
    "    # Initialize visited and queue lists\n",
    "    visitedNodes = []\n",
    "    queueNodes = []\n",
    "\n",
    "    # Add the starting node to visited and queue\n",
    "    visitedNodes.append(snode)\n",
    "    queueNodes.append(snode)\n",
    "\n",
    "    print(\"\\nRESULT:\")\n",
    "    while queueNodes:\n",
    "        # Pop the first node from the queue\n",
    "        s = queueNodes.pop(0)\n",
    "        print(s, end=\" \")\n",
    "\n",
    "        # Add unvisited neighbors to the queue\n",
    "        for neighbour in graph.get(s, []):  # Use `get` to handle invalid nodes gracefully\n",
    "            if neighbour not in visitedNodes:\n",
    "                visitedNodes.append(neighbour)\n",
    "                queueNodes.append(neighbour)\n",
    "\n",
    "# Input the starting node\n",
    "snode = input(\"Enter Starting Node (A, B, C, D, or E): \").upper()\n",
    "\n",
    "# Validate the starting node\n",
    "if snode not in graph:\n",
    "    print(\"Invalid starting node. Please enter a valid node (A, B, C, D, or E).\")\n",
    "else:\n",
    "    # Call the BFS function\n",
    "    bfs(graph, snode)"
   ]
  }
 ],
 "metadata": {
  "kernelspec": {
   "display_name": "base",
   "language": "python",
   "name": "python3"
  },
  "language_info": {
   "codemirror_mode": {
    "name": "ipython",
    "version": 3
   },
   "file_extension": ".py",
   "mimetype": "text/x-python",
   "name": "python",
   "nbconvert_exporter": "python",
   "pygments_lexer": "ipython3",
   "version": "3.10.9"
  }
 },
 "nbformat": 4,
 "nbformat_minor": 5
}
